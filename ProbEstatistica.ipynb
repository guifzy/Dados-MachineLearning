{
  "nbformat": 4,
  "nbformat_minor": 0,
  "metadata": {
    "colab": {
      "provenance": [],
      "authorship_tag": "ABX9TyO0wdNXuRCXV9STx7Tq8dV1",
      "include_colab_link": true
    },
    "kernelspec": {
      "name": "python3",
      "display_name": "Python 3"
    },
    "language_info": {
      "name": "python"
    }
  },
  "cells": [
    {
      "cell_type": "markdown",
      "metadata": {
        "id": "view-in-github",
        "colab_type": "text"
      },
      "source": [
        "<a href=\"https://colab.research.google.com/github/guifzy/Dados-MachineLearning/blob/main/ProbEstatistica.ipynb\" target=\"_parent\"><img src=\"https://colab.research.google.com/assets/colab-badge.svg\" alt=\"Open In Colab\"/></a>"
      ]
    },
    {
      "cell_type": "markdown",
      "source": [
        "LANÇAMENTO DE DOIS DADOS:"
      ],
      "metadata": {
        "id": "0S2Q4CmI0RUI"
      }
    },
    {
      "cell_type": "code",
      "execution_count": null,
      "metadata": {
        "id": "w6OtVV3Y0Dox",
        "outputId": "de049a53-197c-40d0-f173-302cd3551256",
        "colab": {
          "base_uri": "https://localhost:8080/"
        }
      },
      "outputs": [
        {
          "output_type": "stream",
          "name": "stdout",
          "text": [
            "ESPAÇO AMOSTRAL: \n",
            "[(1, 1), (1, 2), (1, 3), (1, 4), (1, 5), (1, 6), (2, 1), (2, 2), (2, 3), (2, 4), (2, 5), (2, 6), (3, 1), (3, 2), (3, 3), (3, 4), (3, 5), (3, 6), (4, 1), (4, 2), (4, 3), (4, 4), (4, 5), (4, 6), (5, 1), (5, 2), (5, 3), (5, 4), (5, 5), (5, 6), (6, 1), (6, 2), (6, 3), (6, 4), (6, 5), (6, 6)]\n"
          ]
        }
      ],
      "source": [
        "espaco_amostral = [(i, j) for i in range(1, 7) for j in range(1, 7)]\n",
        "print(\"ESPAÇO AMOSTRAL: \")\n",
        "print(espaco_amostral)"
      ]
    },
    {
      "cell_type": "code",
      "source": [
        "total = len(espaco_amostral)\n",
        "print(\"TOTAL DE COMBINAÇÕES: \")\n",
        "print(\"N(U) = \" + str(total))"
      ],
      "metadata": {
        "id": "uD8KTKfa0Xc_",
        "outputId": "f35f184d-cd49-4f5a-b148-6d88dbf8465a",
        "colab": {
          "base_uri": "https://localhost:8080/"
        }
      },
      "execution_count": null,
      "outputs": [
        {
          "output_type": "stream",
          "name": "stdout",
          "text": [
            "TOTAL DE COMBINAÇÕES: \n",
            "N(U) = 36\n"
          ]
        }
      ]
    },
    {
      "cell_type": "markdown",
      "source": [
        "EVENTO B EM QUE A SOMA DAS FACES SUPERIORES DOS DOIS DADOS É IGUAL A 12, DEFINA O EVENTO B:"
      ],
      "metadata": {
        "id": "DIcRe2mb0Ub-"
      }
    },
    {
      "cell_type": "code",
      "source": [
        "B = [(i, j) for i, j in espaco_amostral if i + j == 12]\n",
        "\n",
        "print(\"ESPAÇO AMOSTRAL: \")\n",
        "print(\"B = \" + str(B) )\n"
      ],
      "metadata": {
        "id": "MQOZ9AW90am2",
        "outputId": "996273d2-9a6a-495f-d3cb-09ddc1d6f7e2",
        "colab": {
          "base_uri": "https://localhost:8080/"
        }
      },
      "execution_count": null,
      "outputs": [
        {
          "output_type": "stream",
          "name": "stdout",
          "text": [
            "ESPAÇO AMOSTRAL: \n",
            "B = [(6, 6)]\n"
          ]
        }
      ]
    },
    {
      "cell_type": "code",
      "source": [
        "print(\"TOTAL DE COMBINAÇÔES: \")\n",
        "print(\"N(B) = \" + str(len(B)))"
      ],
      "metadata": {
        "id": "HjVnDT7t0cTO",
        "outputId": "ca782842-d677-443c-c22f-8c4fb43c123a",
        "colab": {
          "base_uri": "https://localhost:8080/"
        }
      },
      "execution_count": null,
      "outputs": [
        {
          "output_type": "stream",
          "name": "stdout",
          "text": [
            "TOTAL DE COMBINAÇÔES: \n",
            "N(B) = 1\n"
          ]
        }
      ]
    },
    {
      "cell_type": "markdown",
      "source": [
        "LANÇAMENTO DE UM DADO PODENDO CHAMAR DE EVENDTO D AQUELE EM QUE A FACE SUPERIOR DO DADO É MENOR QUE 7"
      ],
      "metadata": {
        "id": "edUAsyRQ0d3e"
      }
    },
    {
      "cell_type": "code",
      "source": [
        "dado = [i for i in range(1, 7)]\n",
        "D = [i for i in dado if i < 7]\n",
        "\n",
        "print(\"ESPAÇO AMOSTRAL: \")\n",
        "print(\"D = \" + str(D) )"
      ],
      "metadata": {
        "id": "sNygKwCo0f-G",
        "outputId": "202cf784-3762-4e05-bd0e-d69da19351cd",
        "colab": {
          "base_uri": "https://localhost:8080/"
        }
      },
      "execution_count": null,
      "outputs": [
        {
          "output_type": "stream",
          "name": "stdout",
          "text": [
            "ESPAÇO AMOSTRAL: \n",
            "D = [1, 2, 3, 4, 5, 6]\n"
          ]
        }
      ]
    },
    {
      "cell_type": "code",
      "source": [
        "print(\"TOTAL DE COMBINAÇÔES: \")\n",
        "print(\"N(B) = \" + str(len(D)))"
      ],
      "metadata": {
        "id": "O5XBfTVV0i0N",
        "outputId": "b9295a97-9773-43fc-a856-b73fa214c296",
        "colab": {
          "base_uri": "https://localhost:8080/"
        }
      },
      "execution_count": null,
      "outputs": [
        {
          "output_type": "stream",
          "name": "stdout",
          "text": [
            "TOTAL DE COMBINAÇÔES: \n",
            "N(B) = 6\n"
          ]
        }
      ]
    },
    {
      "cell_type": "markdown",
      "source": [
        "PROBABILIDADE DE NO LANÇAMENTO DE UMA MOEDA O RESULTADO SER CARA"
      ],
      "metadata": {
        "id": "8NLq_LT10qWN"
      }
    },
    {
      "cell_type": "code",
      "source": [
        "moeda = [i for i in ('cara', 'coroa')]\n",
        "resultado = [i for i in moeda if i == 'cara']\n",
        "prob = len(resultado) / len(moeda)\n",
        "\n",
        "print(\"ESPAÇO AMOSTRAL: \")\n",
        "print(moeda)\n",
        "print()\n",
        "print(\"RESULTADO ESPERADO: \")\n",
        "print(resultado)\n",
        "print()\n",
        "print(\"PROBABILIDADE: \")\n",
        "print(prob)\n",
        "print(\"ou\")\n",
        "print(f\"%\",prob * 100)\n",
        "\n"
      ],
      "metadata": {
        "colab": {
          "base_uri": "https://localhost:8080/"
        },
        "id": "c0EKEcjf0y-O",
        "outputId": "7b7fcee2-c834-4cd8-b48b-1bd8b9f225ef"
      },
      "execution_count": null,
      "outputs": [
        {
          "output_type": "stream",
          "name": "stdout",
          "text": [
            "ESPAÇO AMOSTRAL: \n",
            "['cara', 'coroa']\n",
            "\n",
            "RESULTADO ESPERADO: \n",
            "['cara']\n",
            "\n",
            "PROBABILIDADE: \n",
            "0.5\n",
            "ou\n",
            "% 50.0\n"
          ]
        }
      ]
    },
    {
      "cell_type": "markdown",
      "source": [
        "CHANCE DE NÃO SAIR O NUMERO 1 EM UM LANÇAMENTO DE DADO"
      ],
      "metadata": {
        "id": "soPNz-p22xpv"
      }
    },
    {
      "cell_type": "code",
      "source": [
        "dado2 = [i for i in range(1, 7)]\n",
        "resultado2 = [i for i in dado2 if i != 1]\n",
        "prob2 = len(resultado2) / len(dado2)\n",
        "\n",
        "print(\"ESPAÇO AMOSTRAL: \")\n",
        "print(dado2)\n",
        "print()\n",
        "print(\"RESULTADO ESPERADO: \")\n",
        "print(resultado2)\n",
        "print()\n",
        "print(\"PROBABILIDADE: \")\n",
        "print(prob2)\n",
        "print(\"ou\")\n",
        "print(\"%\",prob2 * 100)"
      ],
      "metadata": {
        "colab": {
          "base_uri": "https://localhost:8080/"
        },
        "id": "0s8jAaqS2xOG",
        "outputId": "5bd03943-ae49-4afc-ba04-48433fedb928"
      },
      "execution_count": null,
      "outputs": [
        {
          "output_type": "stream",
          "name": "stdout",
          "text": [
            "ESPAÇO AMOSTRAL: \n",
            "[1, 2, 3, 4, 5, 6]\n",
            "\n",
            "RESULTADO ESPERADO: \n",
            "[2, 3, 4, 5, 6]\n",
            "\n",
            "PROBABILIDADE: \n",
            "0.8333333333333334\n",
            "ou\n",
            "% 83.33333333333334\n"
          ]
        }
      ]
    }
  ]
}